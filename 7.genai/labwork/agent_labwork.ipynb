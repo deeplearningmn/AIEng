{
 "cells": [
  {
   "cell_type": "markdown",
   "id": "3aa6e736",
   "metadata": {},
   "source": [
    "Даалгавар\n",
    "\n",
    "Хиймэл оюуны загвар үүсгэгч агент (мэдээж загварын код) хийгээрэй.\n"
   ]
  }
 ],
 "metadata": {
  "language_info": {
   "name": "python"
  }
 },
 "nbformat": 4,
 "nbformat_minor": 5
}
