{
 "cells": [
  {
   "cell_type": "markdown",
   "id": "ff6a6a2c",
   "metadata": {},
   "source": [
    "Даалгавар\n",
    "\n",
    "Төсөл 1 дээр Хиймэл оюуны операци хийх.\n"
   ]
  }
 ],
 "metadata": {
  "language_info": {
   "name": "python"
  }
 },
 "nbformat": 4,
 "nbformat_minor": 5
}
