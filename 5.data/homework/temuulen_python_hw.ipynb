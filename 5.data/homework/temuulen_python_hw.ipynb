{
  "nbformat": 4,
  "nbformat_minor": 0,
  "metadata": {
    "colab": {
      "provenance": []
    },
    "kernelspec": {
      "name": "python3",
      "display_name": "Python 3"
    },
    "language_info": {
      "name": "python"
    }
  },
  "cells": [
    {
      "cell_type": "code",
      "source": [
        "import numpy as np\n",
        "import pandas as pd\n",
        "import matplotlib.pyplot as plt\n",
        "import json"
      ],
      "metadata": {
        "id": "lCXQwwhqjI6B"
      },
      "execution_count": 25,
      "outputs": []
    },
    {
      "cell_type": "code",
      "source": [
        "movies = pd.read_csv('tmdb_5000_movies.csv')\n",
        "movies = movies[['title', 'genres', 'vote_average', 'vote_count']]\n"
      ],
      "metadata": {
        "id": "P1nrq18TmXNU"
      },
      "execution_count": 26,
      "outputs": []
    },
    {
      "cell_type": "code",
      "source": [
        "json_field = ['genres']\n",
        "for field in json_field:\n",
        "    movies[field] = movies[field].apply(lambda data: [row['name'] for row in json.loads(data)])"
      ],
      "metadata": {
        "id": "WIrS5S0dovnM"
      },
      "execution_count": 27,
      "outputs": []
    },
    {
      "cell_type": "code",
      "source": [
        "vote_average_mean = movies['vote_average'].mean()\n",
        "min_vote_count = 1000\n",
        "qualified = movies[movies['vote_count'] > min_vote_count].copy()\n",
        "qualified['rating'] = ((qualified['vote_count'] / (qualified['vote_count'] + min_vote_count)) * qualified['vote_average'] +\n",
        "    (min_vote_count / (qualified['vote_count'] + min_vote_count)) * vote_average_mean)"
      ],
      "metadata": {
        "id": "PGz9qvijrAU1"
      },
      "execution_count": 28,
      "outputs": []
    },
    {
      "cell_type": "code",
      "source": [
        "top_movies = qualified.sort_values(by='rating', ascending=False).head(10).reset_index(drop=True)\n",
        "print(top_movies[['title', 'genres', 'vote_average']].to_string())\n"
      ],
      "metadata": {
        "colab": {
          "base_uri": "https://localhost:8080/"
        },
        "id": "kLz0hQaMsI2-",
        "outputId": "037d7364-ea1f-441a-a50b-e8270a8a1d93"
      },
      "execution_count": 29,
      "outputs": [
        {
          "output_type": "stream",
          "name": "stdout",
          "text": [
            "                      title                                                   genres  vote_average\n",
            "0  The Shawshank Redemption                                           [Drama, Crime]           8.5\n",
            "1                Fight Club                                                  [Drama]           8.3\n",
            "2              Pulp Fiction                                        [Thriller, Crime]           8.3\n",
            "3             The Godfather                                           [Drama, Crime]           8.4\n",
            "4           The Dark Knight                         [Drama, Action, Crime, Thriller]           8.2\n",
            "5                 Inception  [Action, Thriller, Science Fiction, Mystery, Adventure]           8.1\n",
            "6              Forrest Gump                                 [Comedy, Drama, Romance]           8.2\n",
            "7              Interstellar                      [Adventure, Drama, Science Fiction]           8.1\n",
            "8   The Empire Strikes Back                     [Adventure, Action, Science Fiction]           8.2\n",
            "9          Schindler's List                                    [Drama, History, War]           8.3\n"
          ]
        }
      ]
    }
  ]
}